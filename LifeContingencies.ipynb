{
 "cells": [
  {
   "cell_type": "code",
   "execution_count": null,
   "metadata": {
    "vscode": {
     "languageId": "r"
    }
   },
   "outputs": [],
   "source": [
    "library(lifecontingencies)"
   ]
  },
  {
   "cell_type": "code",
   "execution_count": 30,
   "metadata": {
    "vscode": {
     "languageId": "r"
    }
   },
   "outputs": [
    {
     "name": "stdout",
     "output_type": "stream",
     "text": [
      "Life table COERCED \n",
      "\n",
      "      x     lx        px        ex\n",
      "1     0 100000 0.9926200 74.881620\n",
      "2     1  99262 0.9995064 74.438355\n",
      "3     2  99213 0.9996875 73.475119\n",
      "4     3  99182 0.9997580 72.498084\n",
      "5     4  99158 0.9997983 71.515632\n",
      "6     5  99138 0.9998184 70.530059\n",
      "7     6  99120 0.9998386 69.542867\n",
      "8     7  99104 0.9998486 68.554095\n",
      "9     8  99089 0.9998587 67.564472\n",
      "10    9  99075 0.9998991 66.574020\n",
      "11   10  99065 0.9999092 65.580740\n",
      "12   11  99056 0.9999091 64.586698\n",
      "13   12  99047 0.9998486 63.592567\n",
      "14   13  99032 0.9997476 62.602199\n",
      "15   14  99007 0.9996061 61.618007\n",
      "16   15  98968 0.9994342 60.642288\n",
      "17   16  98912 0.9992822 59.676622\n",
      "18   17  98841 0.9991198 58.719489\n",
      "19   18  98754 0.9989874 57.771219\n",
      "20   19  98654 0.9988546 56.829779\n",
      "21   20  98541 0.9987112 55.894947\n",
      "22   21  98414 0.9985876 54.967078\n",
      "23   22  98275 0.9985042 54.044823\n",
      "24   23  98128 0.9984918 53.125785\n",
      "25   24  97980 0.9985099 52.206032\n",
      "26   25  97834 0.9985588 51.283940\n",
      "27   26  97693 0.9985874 50.357958\n",
      "28   27  97555 0.9986059 49.429194\n",
      "29   28  97419 0.9986142 48.498199\n",
      "30   29  97284 0.9985918 47.565499\n",
      "31   30  97147 0.9985795 46.632577\n",
      "32   31  97009 0.9985465 45.698915\n",
      "33   32  96868 0.9985134 44.765433\n",
      "34   33  96724 0.9984699 43.832079\n",
      "35   34  96576 0.9984158 42.899250\n",
      "36   35  96423 0.9983510 41.967321\n",
      "37   36  96264 0.9982548 41.036639\n",
      "38   37  96096 0.9981581 40.108381\n",
      "39   38  95919 0.9980192 39.182393\n",
      "40   39  95729 0.9978690 38.260161\n",
      "41   40  95525 0.9976760 37.341869\n",
      "42   41  95303 0.9974712 36.428853\n",
      "43   42  95062 0.9972439 35.521207\n",
      "44   43  94800 0.9970148 34.619378\n",
      "45   44  94517 0.9967413 33.723034\n",
      "46   45  94209 0.9964547 32.833286\n",
      "47   46  93875 0.9961438 31.950104\n",
      "48   47  93513 0.9957974 31.073787\n",
      "49   48  93120 0.9953930 30.204929\n",
      "50   49  92691 0.9949618 29.344726\n",
      "51   50  92224 0.9944917 28.493321\n",
      "52   51  91716 0.9939923 27.651140\n",
      "53   52  91165 0.9934953 26.818264\n",
      "54   53  90572 0.9930221 25.993850\n",
      "55   54  89940 0.9925506 25.176507\n",
      "56   55  89270 0.9920242 24.365464\n",
      "57   56  88558 0.9914406 23.561361\n",
      "58   57  87800 0.9908314 22.764772\n",
      "59   58  86995 0.9901489 21.975424\n",
      "60   59  86138 0.9894239 21.194061\n",
      "61   60  85227 0.9885834 20.420606\n",
      "62   61  84254 0.9876920 19.656432\n",
      "63   62  83217 0.9867094 18.901378\n",
      "64   63  82111 0.9856779 18.155972\n",
      "65   64  80935 0.9845432 17.419781\n",
      "66   65  79684 0.9832714 16.693263\n",
      "67   66  78351 0.9818509 15.977269\n",
      "68   67  76929 0.9802675 15.272602\n",
      "69   68  75411 0.9785310 14.580035\n",
      "70   69  73792 0.9766099 13.899921\n",
      "71   70  72066 0.9744262 13.232828\n",
      "72   71  70223 0.9719608 12.580123\n",
      "73   72  68254 0.9693351 11.943036\n",
      "74   73  66161 0.9665362 11.320854\n",
      "75   74  63947 0.9634854 10.712809\n",
      "76   75  61612 0.9599916 10.118808\n",
      "77   76  59147 0.9560079  9.540518\n",
      "78   77  56545 0.9516491  8.979538\n",
      "79   78  53811 0.9468510  8.435766\n",
      "80   79  50951 0.9415713  7.909285\n",
      "81   80  47974 0.9355484  7.400092\n",
      "82   81  44882 0.9287242  6.909897\n",
      "83   82  41683 0.9212629  6.440203\n",
      "84   83  38401 0.9130752  5.990625\n",
      "85   84  35063 0.9040584  5.560933\n",
      "86   85  31699 0.8940661  5.151077\n",
      "87   86  28341 0.8829611  4.761406\n",
      "88   87  25024 0.8705643  4.392543\n",
      "89   88  21785 0.8570117  4.045628\n",
      "90   89  18670 0.8420996  3.720621\n",
      "91   90  15722 0.8259763  3.418267\n",
      "92   91  12986 0.8086401  3.138457\n",
      "93   92  10501 0.7901152  2.881154\n",
      "94   93   8297 0.7705195  2.646499\n",
      "95   94   6393 0.7498827  2.434694\n",
      "96   95   4794 0.7292449  2.246767\n",
      "97   96   3496 0.7090961  2.080950\n",
      "98   97   2479 0.6901977  1.934651\n",
      "99   98   1711 0.6715371  1.803039\n",
      "100  99   1149 0.6562228  1.684943\n",
      "101 100    754 0.6379310  1.567639\n",
      "102 101    481 0.6195426  1.457380\n",
      "103 102    298 0.6006711  1.352349\n",
      "104 103    179 0.5810056  1.251397\n",
      "105 104    104 0.5576923  1.153846\n",
      "106 105     58 0.5344828  1.068966\n",
      "107 106     31 0.5161290  1.000000\n",
      "108 107     16 0.5000000  0.937500\n",
      "109 108      8 0.5000000  0.875000\n",
      "110 109      4 0.5000000  0.750000\n",
      "111 110      2 0.5000000  0.500000\n",
      "\n",
      "[1] \"maximum age: 111\"\n"
     ]
    }
   ],
   "source": [
    "# lifetable object\n",
    "data(\"demoUsa\", package=\"lifecontingencies\")\n",
    "\n",
    "US07Male<-demoUsa[,c(\"age\",\"USSS2007M\")]\n",
    "names(US07Male)<-c(\"x\",\"lx\")\n",
    "US07MaleLt<-as(US07Male,\"lifetable\")\n",
    "print(US07MaleLt)\n",
    "US07MaleLt@name<-\"USA MALES 2007\"\n",
    "print(paste(\"maximum age:\", getOmega(US07MaleLt)))\n",
    "# x = age x. 0 is birth.\n",
    "# lx = A vector, number of people alive at beginning of age x\n",
    "# px = Probability of surviving from age x to x+1, calculated as lx+1/lx\n",
    "# ex = Residual life expectancy. (Sum lx for all ages >= x)/(lx at age x)"
   ]
  },
  {
   "cell_type": "code",
   "execution_count": 104,
   "metadata": {
    "vscode": {
     "languageId": "r"
    }
   },
   "outputs": [
    {
     "data": {
      "text/html": [
       "0.998711196354817"
      ],
      "text/latex": [
       "0.998711196354817"
      ],
      "text/markdown": [
       "0.998711196354817"
      ],
      "text/plain": [
       "[1] 0.9987112"
      ]
     },
     "metadata": {},
     "output_type": "display_data"
    },
    {
     "data": {
      "text/html": [
       "0.00908931824966286"
      ],
      "text/latex": [
       "0.00908931824966286"
      ],
      "text/markdown": [
       "0.00908931824966286"
      ],
      "text/plain": [
       "[1] 0.009089318"
      ]
     },
     "metadata": {},
     "output_type": "display_data"
    },
    {
     "data": {
      "text/html": [
       "0.00309839727423385"
      ],
      "text/latex": [
       "0.00309839727423385"
      ],
      "text/markdown": [
       "0.00309839727423385"
      ],
      "text/plain": [
       "[1] 0.003098397"
      ]
     },
     "metadata": {},
     "output_type": "display_data"
    },
    {
     "data": {
      "text/html": [
       "0.0149322280721407"
      ],
      "text/latex": [
       "0.0149322280721407"
      ],
      "text/markdown": [
       "0.0149322280721407"
      ],
      "text/plain": [
       "[1] 0.01493223"
      ]
     },
     "metadata": {},
     "output_type": "display_data"
    },
    {
     "data": {
      "text/html": [
       "0.00230235524719204"
      ],
      "text/latex": [
       "0.00230235524719204"
      ],
      "text/markdown": [
       "0.00230235524719204"
      ],
      "text/plain": [
       "[1] 0.002302355"
      ]
     },
     "metadata": {},
     "output_type": "display_data"
    },
    {
     "data": {
      "text/html": [
       "0.00230235524719202"
      ],
      "text/latex": [
       "0.00230235524719202"
      ],
      "text/markdown": [
       "0.00230235524719202"
      ],
      "text/plain": [
       "[1] 0.002302355"
      ]
     },
     "metadata": {},
     "output_type": "display_data"
    },
    {
     "data": {
      "text/html": [
       "0.00230235524719202"
      ],
      "text/latex": [
       "0.00230235524719202"
      ],
      "text/markdown": [
       "0.00230235524719202"
      ],
      "text/plain": [
       "[1] 0.002302355"
      ]
     },
     "metadata": {},
     "output_type": "display_data"
    },
    {
     "data": {
      "text/html": [
       "0.0342345705900044"
      ],
      "text/latex": [
       "0.0342345705900044"
      ],
      "text/markdown": [
       "0.0342345705900044"
      ],
      "text/plain": [
       "[1] 0.03423457"
      ]
     },
     "metadata": {},
     "output_type": "display_data"
    },
    {
     "data": {
      "text/html": [
       "0.00123699321815673"
      ],
      "text/latex": [
       "0.00123699321815673"
      ],
      "text/markdown": [
       "0.00123699321815673"
      ],
      "text/plain": [
       "[1] 0.001236993"
      ]
     },
     "metadata": {},
     "output_type": "display_data"
    }
   ],
   "source": [
    "# pxt = survival probability between x and x+t. \n",
    "# qxt = death probability between x and x+t.\n",
    "# pxt and qxt are complimentary. (1 - qxt = pxt) and (1 - pxt = qxt)\n",
    "pxt(US07MaleLt,20,1)\n",
    "qxt(US07MaleLt,30,6)\n",
    "# Probability that an individual aged 30 dies between age 33 and 35\n",
    "pxt(US07MaleLt,30,3)*qxt(US07MaleLt,33,2)\n",
    "\n",
    "# Probability that an insured aged 55 dies in his first year of retirement (that starts at age 65)\n",
    "pxt(US07MaleLt,x=55,t=10)*qxt(US07MaleLt,x=65,t=1)\n",
    "\n",
    "# Probability that an insured aged 35 dies at the age of 40. (Many ways)\n",
    "pxt(US07MaleLt,x=35,t=5)*qxt(US07MaleLt,x=40,t=1)\n",
    "pxt(US07MaleLt,x=35,t=5)-pxt(US07MaleLt,x=35,t=6)\n",
    "qxt(US07MaleLt,x=35,t=6)-qxt(US07MaleLt,x=35,t=5)\n",
    "\n",
    "# Probability that an insured aged 35 dies between 40 and 50 years old. \n",
    "pxt(US07MaleLt,x=35,t=5)*qxt(US07MaleLt,x=40,t=10)\n",
    "\n",
    "# Probability that an insured aged 35 dies in next 9 months (constant force assumption).\n",
    "qxt(US07MaleLt,x=35,t=0.75, \"constant force\")"
   ]
  },
  {
   "cell_type": "code",
   "execution_count": 132,
   "metadata": {
    "vscode": {
     "languageId": "r"
    }
   },
   "outputs": [
    {
     "data": {
      "text/html": [
       "724"
      ],
      "text/latex": [
       "724"
      ],
      "text/markdown": [
       "724"
      ],
      "text/plain": [
       "[1] 724"
      ]
     },
     "metadata": {},
     "output_type": "display_data"
    },
    {
     "data": {
      "text/html": [
       "138"
      ],
      "text/latex": [
       "138"
      ],
      "text/markdown": [
       "138"
      ],
      "text/plain": [
       "[1] 138"
      ]
     },
     "metadata": {},
     "output_type": "display_data"
    },
    {
     "data": {
      "text/html": [
       "0.00277315935762166"
      ],
      "text/latex": [
       "0.00277315935762166"
      ],
      "text/markdown": [
       "0.00277315935762166"
      ],
      "text/plain": [
       "[1] 0.002773159"
      ]
     },
     "metadata": {},
     "output_type": "display_data"
    },
    {
     "data": {
      "text/html": [
       "0.00232670258033412"
      ],
      "text/latex": [
       "0.00232670258033412"
      ],
      "text/markdown": [
       "0.00232670258033412"
      ],
      "text/plain": [
       "[1] 0.002326703"
      ]
     },
     "metadata": {},
     "output_type": "display_data"
    },
    {
     "data": {
      "text/html": [
       "9.88793130269749"
      ],
      "text/latex": [
       "9.88793130269749"
      ],
      "text/markdown": [
       "9.88793130269749"
      ],
      "text/plain": [
       "[1] 9.887931"
      ]
     },
     "metadata": {},
     "output_type": "display_data"
    },
    {
     "data": {
      "text/html": [
       "41.9673210748473"
      ],
      "text/latex": [
       "41.9673210748473"
      ],
      "text/markdown": [
       "41.9673210748473"
      ],
      "text/plain": [
       "[1] 41.96732"
      ]
     },
     "metadata": {},
     "output_type": "display_data"
    }
   ],
   "source": [
    "# dxt = Number of deaths between x and x+t (or at x)\n",
    "# mxt = Central mortality rate between x and x+t (or at x)\n",
    "# exn = Life expectancy between x and x+t (or at x)\n",
    "dxt(US07MaleLt, 30, 5)\n",
    "dxt(US07MaleLt, 30)\n",
    "mxt(US07MaleLt, 40, 5)\n",
    "mxt(US07MaleLt, 40)\n",
    "exn(US07MaleLt, 35, 10)\n",
    "exn(US07MaleLt, 35)"
   ]
  },
  {
   "cell_type": "code",
   "execution_count": 107,
   "metadata": {
    "vscode": {
     "languageId": "r"
    }
   },
   "outputs": [],
   "source": [
    "# Joint Life table\n",
    "US07Female<-demoUsa[,c(\"age\",\"USSS2007F\")]\n",
    "names(US07Female)<-c(\"x\",\"lx\")\n",
    "US07FemaleLt<-as(US07Female,\"lifetable\")\n",
    "US07FemaleLt@name<-\"USA FEMALES 2007\"\n",
    "US07List<-list(US07MaleLt,US07FemaleLt)"
   ]
  },
  {
   "cell_type": "code",
   "execution_count": 111,
   "metadata": {
    "vscode": {
     "languageId": "r"
    }
   },
   "outputs": [
    {
     "data": {
      "text/html": [
       "0.964273563754046"
      ],
      "text/latex": [
       "0.964273563754046"
      ],
      "text/markdown": [
       "0.964273563754046"
      ],
      "text/plain": [
       "[1] 0.9642736"
      ]
     },
     "metadata": {},
     "output_type": "display_data"
    },
    {
     "data": {
      "text/html": [
       "0.0357264362459542"
      ],
      "text/latex": [
       "0.0357264362459542"
      ],
      "text/markdown": [
       "0.0357264362459542"
      ],
      "text/plain": [
       "[1] 0.03572644"
      ]
     },
     "metadata": {},
     "output_type": "display_data"
    },
    {
     "data": {
      "text/html": [
       "0.999732163475238"
      ],
      "text/latex": [
       "0.999732163475238"
      ],
      "text/markdown": [
       "0.999732163475238"
      ],
      "text/plain": [
       "[1] 0.9997322"
      ]
     },
     "metadata": {},
     "output_type": "display_data"
    },
    {
     "data": {
      "text/html": [
       "0.098314681124411"
      ],
      "text/latex": [
       "0.098314681124411"
      ],
      "text/markdown": [
       "0.098314681124411"
      ],
      "text/plain": [
       "[1] 0.09831468"
      ]
     },
     "metadata": {},
     "output_type": "display_data"
    },
    {
     "data": {
      "text/html": [
       "0.098314681124411"
      ],
      "text/latex": [
       "0.098314681124411"
      ],
      "text/markdown": [
       "0.098314681124411"
      ],
      "text/plain": [
       "[1] 0.09831468"
      ]
     },
     "metadata": {},
     "output_type": "display_data"
    },
    {
     "data": {
      "text/html": [
       "0.00221067340340442"
      ],
      "text/latex": [
       "0.00221067340340442"
      ],
      "text/markdown": [
       "0.00221067340340442"
      ],
      "text/plain": [
       "[1] 0.002210673"
      ]
     },
     "metadata": {},
     "output_type": "display_data"
    },
    {
     "data": {
      "text/html": [
       "0.00221067340340437"
      ],
      "text/latex": [
       "0.00221067340340437"
      ],
      "text/markdown": [
       "0.00221067340340437"
      ],
      "text/plain": [
       "[1] 0.002210673"
      ]
     },
     "metadata": {},
     "output_type": "display_data"
    },
    {
     "data": {
      "text/html": [
       "0.0121201050779853"
      ],
      "text/latex": [
       "0.0121201050779853"
      ],
      "text/markdown": [
       "0.0121201050779853"
      ],
      "text/plain": [
       "[1] 0.01212011"
      ]
     },
     "metadata": {},
     "output_type": "display_data"
    },
    {
     "data": {
      "text/html": [
       "3.56528591165607e-05"
      ],
      "text/latex": [
       "3.56528591165607e-05"
      ],
      "text/markdown": [
       "3.56528591165607e-05"
      ],
      "text/plain": [
       "[1] 3.565286e-05"
      ]
     },
     "metadata": {},
     "output_type": "display_data"
    }
   ],
   "source": [
    "# pxyzt = joint-life probability (more than two lives)\n",
    "# qxyzt = probability of death (more than two lives) \n",
    "\n",
    "# joint-life probability of a couple (man aged 55, woman aged 50) during next 3 years\n",
    "pxyzt(US07List, x=c(55,50), t=3)\n",
    "\n",
    "# non joint-life probability of a couple (man aged 55, woman aged 50) during next 3 years\n",
    "qxyzt(US07List, x=c(55,50), t=3)\n",
    "\n",
    "# non last-survivor probability of a couple (man aged 55, woman aged 50) during next 3 years\n",
    "pxyzt(US07List,x=c(55,50), t=3, status=\"last\")\n",
    "\n",
    "# Non joint-life probability (at least one die) of the couple during next 12 years. Two ways\n",
    "1-pxyzt(US07List,x=c(45,42),t=12)\n",
    "qxyzt(US07List,x=c(45,42),t=12, status=\"joint\")\n",
    "\n",
    "\n",
    "# Last-survivor probability (all die) of the couple during next 12 years. Two ways\n",
    "qxyzt(US07List,x=c(45,42),t=12,status=\"last\")\n",
    "qxt(US07MaleLt,x=45,t=12)*qxt(US07FemaleLt,x=42,t=12)\n",
    "\n",
    "# Probability that both members of the couple survive 12 years and after that, at least one of them dies in the following year. \n",
    "pxyzt(US07List,x=c(45,42),t=12)*qxyzt(US07List,x=c(45+12,42+12),t=1)\n",
    "\n",
    "# Probability that the couple survive 12 years and after that, both of them die in the following year. \n",
    "pqext<-pxyzt(US07List,x=c(45,42),t=12)*qxyzt(US07List,x=c(45+12,42+12),t=1,status=\"last\")\n",
    "pqext"
   ]
  },
  {
   "cell_type": "code",
   "execution_count": 115,
   "metadata": {
    "vscode": {
     "languageId": "r"
    }
   },
   "outputs": [],
   "source": [
    "# actuarial table object\n",
    "US07MaleAct<-new(\"actuarialtable\", x=US07MaleLt@x, lx=US07MaleLt@lx, interest=0.03, name=\"USA MALES 2007 ACT TABLE\")\n",
    "US07MaleActDf<-as(US07MaleAct,\"data.frame\") # Can make it into a dataframe too\n",
    "\n",
    "# v = Discount factor 1/(1+ interest rate)\n",
    "# Dx = Present value of life insurance policy pays 1 unit if policyholder dies within 1 year starting from age x. (lx*v).\n",
    "# Nx = Present value of life insurance policy pays 1 unit if policyholder dies at any future age starting from x. (Sum of Dx for ages >= x).\n",
    "# Cx = Present value of life annuity pays 1 unit per year, as long as policyholder alive at age x. (lx*v)/(1-v).\n",
    "# Mx = Present value of life annuity pays 1 unit per year, as long as policyholder alive at age X+1. (Sum of Cx for ages > x)\n",
    "# Rx = Present value of life insurance policy pays 1 unit if policyholder dies within 1 year starting from age x+1. (Dx/(1+interest rate))."
   ]
  },
  {
   "cell_type": "code",
   "execution_count": 137,
   "metadata": {
    "vscode": {
     "languageId": "r"
    }
   },
   "outputs": [
    {
     "data": {
      "text/html": [
       "4184.0775369778"
      ],
      "text/latex": [
       "4184.0775369778"
      ],
      "text/markdown": [
       "4184.0775369778"
      ],
      "text/plain": [
       "[1] 4184.078"
      ]
     },
     "metadata": {},
     "output_type": "display_data"
    },
    {
     "data": {
      "text/html": [
       "16668.3239647125"
      ],
      "text/latex": [
       "16668.3239647125"
      ],
      "text/markdown": [
       "16668.3239647125"
      ],
      "text/plain": [
       "[1] 16668.32"
      ]
     },
     "metadata": {},
     "output_type": "display_data"
    },
    {
     "data": {
      "text/html": [
       "0.00812902823398243"
      ],
      "text/latex": [
       "0.00812902823398243"
      ],
      "text/markdown": [
       "0.00812902823398243"
      ],
      "text/plain": [
       "[1] 0.008129028"
      ]
     },
     "metadata": {},
     "output_type": "display_data"
    },
    {
     "data": {
      "text/html": [
       "0.00405840172950525"
      ],
      "text/latex": [
       "0.00405840172950525"
      ],
      "text/markdown": [
       "0.00405840172950525"
      ],
      "text/plain": [
       "[1] 0.004058402"
      ]
     },
     "metadata": {},
     "output_type": "display_data"
    },
    {
     "data": {
      "text/html": [
       "0.00398314242304402"
      ],
      "text/latex": [
       "0.00398314242304402"
      ],
      "text/markdown": [
       "0.00398314242304402"
      ],
      "text/plain": [
       "[1] 0.003983142"
      ]
     },
     "metadata": {},
     "output_type": "display_data"
    },
    {
     "data": {
      "text/html": [
       "0.00139923956787512"
      ],
      "text/latex": [
       "0.00139923956787512"
      ],
      "text/markdown": [
       "0.00139923956787512"
      ],
      "text/plain": [
       "[1] 0.00139924"
      ]
     },
     "metadata": {},
     "output_type": "display_data"
    },
    {
     "data": {
      "text/html": [
       "0.0013596384480296"
      ],
      "text/latex": [
       "0.0013596384480296"
      ],
      "text/markdown": [
       "0.0013596384480296"
      ],
      "text/plain": [
       "[1] 0.001359638"
      ]
     },
     "metadata": {},
     "output_type": "display_data"
    },
    {
     "data": {
      "text/html": [
       "1493.32204255894"
      ],
      "text/latex": [
       "1493.32204255894"
      ],
      "text/markdown": [
       "1493.32204255894"
      ],
      "text/plain": [
       "[1] 1493.322"
      ]
     },
     "metadata": {},
     "output_type": "display_data"
    }
   ],
   "source": [
    "# Actuarial present value (APV) (one life)\n",
    "\n",
    "# Axn = pays 1 m.u. at the end of the year of death\n",
    "# AExn = n-year endowment, it pays 1 m.u. at the end of the year of death or after n years, if the insured survives\n",
    "# Exn = pure endowment, it pays 1 m.u. after a period of n years, if the insured survives \n",
    "# IAxn = increasing life insurance contract (it starts paying 1 m.u. if death occurs in the first year of coverage and after that, the benefit is increased by 1 m.u. every year\n",
    "# DAxn = decreasing life insurance (it starts paying n m.u. if death occurs in the first year of coverage and after that, the benefit is decreased by 1 m.u. every year\n",
    "\n",
    "# APV of a contract that pays 50000 m.u. at the end of the death year. The insured is 25 years old and the coverage period is 40 years. \n",
    "50000*Axn(actuarialtable=US07MaleAct,x=25,n=40)\n",
    "\n",
    "# APV of a contract that pays 50000 m.u. at the end of the death year. The insured is 25 years old and the coverage period is 40 years. In case that he survives 40 years, he will also receive 50000 m.u. \n",
    "50000*AExn(actuarialtable=US07MaleAct,x=25,n=40)\n",
    "\n",
    "\n",
    "DAxn(actuarialtable=US07MaleAct,x=25,n=3)\n",
    "\n",
    "# APV of an insurance that pays an increasing benefit if the insured (who is 25 years old) dies during next 2 years. If he dies during the first year, the benefit will be 1 m.u. and if he dies during the second year, the benefit will be 2 m.u.. In both cases, the benefit will be paid at the end of the death year. Do the calculation in two different ways and check that you get the same results.\n",
    "IAxn(actuarialtable=US07MaleAct,x=25,n=2)\n",
    "Axn(actuarialtable=US07MaleAct,x=25,n=1)++2*pxt(US07MaleAct,25,1)*Axn(actuarialtable=US07MaleAct,x=26,n=1)*(1.06^(-1))\n",
    "\n",
    "# APV of a contract that pays 1 m.u. at the end of the year of death. The insured is 25 years old and the coverage period is 1 year\n",
    "Axn(actuarialtable=US07MaleAct,x=25,n=1)\n",
    "qxt(US07MaleAct,25,1)*(1.06)^(-1) \n",
    "\n",
    "\n",
    "# TIPV of a life insurance policy that pays an increasing benefit if the insured (who is 25 years old when he underwrites the contract) dies in next 10 years. If he dies in the first year, the company will pay 100000 m.u. From that moment on, the benefit will be increased by 5000 m.u. per year (this means that if he dies during the second year the benefit will be 105000 m.u., in the third year, 110000 m.u., and so on).\n",
    "TIPV <- 95000*Axn(actuarialtable=US07MaleAct,x=25,n=10) + 5000*IAxn(actuarialtable=US07MaleAct,x=25,n=10)\n",
    "TIPV"
   ]
  },
  {
   "cell_type": "code",
   "execution_count": 135,
   "metadata": {
    "vscode": {
     "languageId": "r"
    }
   },
   "outputs": [
    {
     "data": {
      "text/html": [
       "0.0144186451227467"
      ],
      "text/latex": [
       "0.0144186451227467"
      ],
      "text/markdown": [
       "0.0144186451227467"
      ],
      "text/plain": [
       "[1] 0.01441865"
      ]
     },
     "metadata": {},
     "output_type": "display_data"
    },
    {
     "data": {
      "text/html": [
       "720.932256137337"
      ],
      "text/latex": [
       "720.932256137337"
      ],
      "text/markdown": [
       "720.932256137337"
      ],
      "text/plain": [
       "[1] 720.9323"
      ]
     },
     "metadata": {},
     "output_type": "display_data"
    },
    {
     "data": {
      "text/html": [
       "720.932256137337"
      ],
      "text/latex": [
       "720.932256137337"
      ],
      "text/markdown": [
       "720.932256137337"
      ],
      "text/plain": [
       "[1] 720.9323"
      ]
     },
     "metadata": {},
     "output_type": "display_data"
    },
    {
     "data": {
      "text/html": [
       "1.83088139770593"
      ],
      "text/latex": [
       "1.83088139770593"
      ],
      "text/markdown": [
       "1.83088139770593"
      ],
      "text/plain": [
       "[1] 1.830881"
      ]
     },
     "metadata": {},
     "output_type": "display_data"
    },
    {
     "data": {
      "text/html": [
       "1.83088139770593"
      ],
      "text/latex": [
       "1.83088139770593"
      ],
      "text/markdown": [
       "1.83088139770593"
      ],
      "text/plain": [
       "[1] 1.830881"
      ]
     },
     "metadata": {},
     "output_type": "display_data"
    }
   ],
   "source": [
    "# APV (two lives)\n",
    "\n",
    "# APV of a life insurance contract underwritten by a couple (man aged 60 and woman aged 50) that pays a benefit when the first death occurs during the next year. The benefit is 1 m.u., at it will be paid (in the non joint life case), at the end of the year. The interest rate is 1.5%. \n",
    "Axyzn(US07List,x=c(60,50),i=0.015, n=1, status=\"joint\")\n",
    "\n",
    "# APV of a life insurance contract underwritten by a couple (man aged 60 and woman aged 50) that pays a benefit when the first death occurs during the next year. The benefit is 50000 m.u., at it will be paid, in the non joint life case, at the end of the year. The interest rate is 1.5%.\n",
    "50000*Axyzn(US07List,x=c(60,50),i=0.015, n=1, status=\"joint\")\n",
    "50000*qxyzt(US07List,x=c(60,50),t=1,status=\"joint\")*(1.015)^(-1)\n",
    "\n",
    "# APV of a life insurance that pays a benefit when all member of a couple (man aged 60 and woman aged 50) die during the next year. Benefit is 50000 m.u., at it will be paid, in the last-survivor case, at the end of the year. The interest rate is 1.5%.\n",
    "50000*Axyzn(US07List,x=c(60,50),i=0.015, n=1, status=\"last\")\n",
    "50000*qxyzt(US07List,x=c(60,50),t=1,status=\"last\")*(1.015)^(-1)"
   ]
  },
  {
   "cell_type": "code",
   "execution_count": 22,
   "metadata": {
    "vscode": {
     "languageId": "r"
    }
   },
   "outputs": [],
   "source": [
    "# tinkering with another library\n",
    "library(actuar)\n",
    "library(ggplot2)\n",
    "library(gridExtra)"
   ]
  },
  {
   "cell_type": "code",
   "execution_count": 31,
   "metadata": {
    "vscode": {
     "languageId": "r"
    }
   },
   "outputs": [
    {
     "data": {
      "text/html": [
       "<strong>png:</strong> 2"
      ],
      "text/latex": [
       "\\textbf{png:} 2"
      ],
      "text/markdown": [
       "**png:** 2"
      ],
      "text/plain": [
       "png \n",
       "  2 "
      ]
     },
     "metadata": {},
     "output_type": "display_data"
    }
   ],
   "source": [
    "# Generate random sequence of 100 numbers from 0 to 10\n",
    "x <- runif(100, 0, 10)\n",
    "\n",
    "# Calculate density of the Pareto distribution\n",
    "density <- dpareto(x, shape = 2, scale = 1)\n",
    "\n",
    "# Create a dataframe with 'x' values, density values, and index\n",
    "df <- data.frame(x = x, density = density, index = 1:length(x))\n",
    "\n",
    "# Create the density plot using ggplot\n",
    "plot_density <- ggplot(df, aes(x, density)) +\n",
    "  geom_line(color = \"blue\", linetype = \"solid\") +\n",
    "  geom_point(color = \"blue\") +\n",
    "  labs(x = \"x\", y = \"Density\") +\n",
    "  ggtitle(\"Density Plot\")\n",
    "\n",
    "# Create the 'x' values plot using ggplot\n",
    "plot_x <- ggplot(df, aes(index, x)) +\n",
    "  geom_point(color = \"blue\") +\n",
    "  labs(x = \"Index\", y = \"x values\") +\n",
    "  ggtitle(\"Plot of 'x' values\")\n",
    "\n",
    "# Create the density vs. index plot using ggplot\n",
    "plot_density_index <- ggplot(df, aes(index, density)) +\n",
    "  geom_line(color = \"red\", linetype = \"dashed\") +\n",
    "  labs(x = \"Index\", y = \"Density\") +\n",
    "  ggtitle(\"Density vs. Index\")\n",
    "\n",
    "# Arrange plots side by side\n",
    "png(\"Tinkering.png\", width = 1500, height = 500, res = 150)\n",
    "grid.arrange(plot_density, plot_x, plot_density_index, ncol = 3, widths = c(20, 20, 20))\n",
    "dev.off()"
   ]
  }
 ],
 "metadata": {
  "kernelspec": {
   "display_name": "R",
   "language": "R",
   "name": "ir"
  },
  "language_info": {
   "codemirror_mode": "r",
   "file_extension": ".r",
   "mimetype": "text/x-r-source",
   "name": "R",
   "pygments_lexer": "r",
   "version": "4.3.0"
  },
  "orig_nbformat": 4
 },
 "nbformat": 4,
 "nbformat_minor": 2
}
